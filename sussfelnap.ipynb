{
  "cells": [
    {
      "metadata": {
        "trusted": true
      },
      "cell_type": "code",
      "source": "%matplotlib inline\n\nfrom bs4 import BeautifulSoup\nimport requests\nimport pandas as pd\nimport matplotlib.pyplot as plt\nimport re\n\ntelepules = 'Csorna'\nnum_days = 90\n\npage = requests.get(\"https://sussfelnap.hu/\"+str(num_days)+\"-napos-idojaras-elorejelzes/\" + telepules)\nsoup = BeautifulSoup(page.content, 'html.parser')\nall_days = soup.find(class_ = \"x-scroller\")\nall_days = all_days.find_all(class_ = \"col\")\n",
      "execution_count": 7,
      "outputs": []
    },
    {
      "metadata": {
        "trusted": true,
        "scrolled": true
      },
      "cell_type": "code",
      "source": "napok = []\nnapi_min = []\nnapi_max = []\ncsapadek_mm = []\ncsapadek_val = []\nszel_km = []\nszel_irany = []\nfor nap in all_days:\n    try:\n        month = nap.find(class_='withtext').text\n    except:\n        pass\n    try:\n        day = ''.join([c for c in nap.select('.title1')[0].text if c in \"0123456789.\"]) + ' ' + nap.select('.title2')[\n            0].text\n    except:\n        day = ''\n\n    n_min = int(nap.select('.min')[0].text.strip())\n    n_max = int(nap.select('.max')[0].text.strip())\n    try:\n        wind = nap.select('.massagealertwind')[0].text.replace('km/h', ' ').split()\n    except:\n        wind = ['0', '']\n    try:\n        rain = nap.find('div', re.compile('alertalertpre*')).text.replace('mm', ' ').replace('%', '').split()\n    except:\n        rain = ['0', '0']\n\n    napok.append(month + ' ' + day)\n    napi_min.append(n_min)\n    napi_max.append(n_max)\n    szel_km.append(int(wind[0]))\n    try:\n        szel_irany.append(wind[1])\n    except:\n        szel_irany.append('- ? -')\n    \n    csapadek_mm.append(int(rain[0]))\n    csapadek_val.append(int(rain[1]))\n\nido = pd.DataFrame({'datum': napok,\n                    'minimum': napi_min,\n                    'maximum': napi_max,\n                    'csap_mm': csapadek_mm,\n                    'csap_val': csapadek_val,\n                    'szel_km': szel_km,\n                    'szel_ir': szel_irany})\nmax_homerseklet = max(napi_max)\nmin_homerseklet = min(napi_min)\nido['atlag'] = (ido['minimum'] + ido['maximum']) / 2",
      "execution_count": 9,
      "outputs": []
    },
    {
      "metadata": {
        "trusted": true
      },
      "cell_type": "code",
      "source": "print(f'Min.átlag: {ido.minimum.mean():.2f} ℃ , Max.átlag: {ido.maximum.mean():.2f} ℃, Átlag.átlag: {ido.atlag.mean():.2f} ℃\\n')\nprint(f'Abszolút minimum: {ido.minimum.min():>3} ℃\\nAbszolút maximum: {ido.maximum.max():>3} ℃')\nprint(f'Szél maximum: {ido.szel_km.max():>7} km/h')\nprint(f'Várható csapadék: {ido.csap_mm.sum():>3} mm Valószínűsége: {ido.csap_val.mean():.2f} %')\nido.head()",
      "execution_count": 10,
      "outputs": [
        {
          "output_type": "stream",
          "text": "Min.átlag: -2.41 ℃ , Max.átlag: 8.32 ℃, Átlag.átlag: 2.96 ℃\n\nAbszolút minimum:  -8 ℃\nAbszolút maximum:  15 ℃\nSzél maximum:      21 km/h\nVárható csapadék: 225 mm Valószínűsége: 21.41 %\n",
          "name": "stdout"
        },
        {
          "output_type": "execute_result",
          "execution_count": 10,
          "data": {
            "text/html": "<div>\n<style scoped>\n    .dataframe tbody tr th:only-of-type {\n        vertical-align: middle;\n    }\n\n    .dataframe tbody tr th {\n        vertical-align: top;\n    }\n\n    .dataframe thead th {\n        text-align: right;\n    }\n</style>\n<table border=\"1\" class=\"dataframe\">\n  <thead>\n    <tr style=\"text-align: right;\">\n      <th></th>\n      <th>datum</th>\n      <th>minimum</th>\n      <th>maximum</th>\n      <th>csap_mm</th>\n      <th>csap_val</th>\n      <th>szel_km</th>\n      <th>szel_ir</th>\n      <th>atlag</th>\n    </tr>\n  </thead>\n  <tbody>\n    <tr>\n      <th>0</th>\n      <td>November 5. K</td>\n      <td>7</td>\n      <td>15</td>\n      <td>19</td>\n      <td>65</td>\n      <td>0</td>\n      <td></td>\n      <td>11.0</td>\n    </tr>\n    <tr>\n      <th>1</th>\n      <td>November 6. Sz</td>\n      <td>7</td>\n      <td>13</td>\n      <td>8</td>\n      <td>42</td>\n      <td>0</td>\n      <td></td>\n      <td>10.0</td>\n    </tr>\n    <tr>\n      <th>2</th>\n      <td>November 7. Cs</td>\n      <td>5</td>\n      <td>12</td>\n      <td>3</td>\n      <td>45</td>\n      <td>0</td>\n      <td></td>\n      <td>8.5</td>\n    </tr>\n    <tr>\n      <th>3</th>\n      <td>November 8. P</td>\n      <td>8</td>\n      <td>14</td>\n      <td>3</td>\n      <td>40</td>\n      <td>21</td>\n      <td>DK</td>\n      <td>11.0</td>\n    </tr>\n    <tr>\n      <th>4</th>\n      <td>November 9. Sz</td>\n      <td>1</td>\n      <td>12</td>\n      <td>4</td>\n      <td>50</td>\n      <td>0</td>\n      <td></td>\n      <td>6.5</td>\n    </tr>\n  </tbody>\n</table>\n</div>",
            "text/plain": "            datum  minimum  maximum  csap_mm  csap_val  szel_km szel_ir  atlag\n0   November 5. K        7       15       19        65        0           11.0\n1  November 6. Sz        7       13        8        42        0           10.0\n2  November 7. Cs        5       12        3        45        0            8.5\n3   November 8. P        8       14        3        40       21      DK   11.0\n4  November 9. Sz        1       12        4        50        0            6.5"
          },
          "metadata": {}
        }
      ]
    },
    {
      "metadata": {
        "trusted": true,
        "scrolled": false
      },
      "cell_type": "code",
      "source": "y_pos = range(num_days)\nbar_width = .5\n\nplt.figure(figsize=(22,10))\n\nplt.bar(y_pos, ido['csap_mm'], bar_width, color = 'green', alpha = .5)\nplt.bar(y_pos, ido['szel_km']/10, bar_width, color = 'orange', alpha = .5)\nplt.plot(y_pos, ido['maximum'],'g+-', color = 'red', linewidth = 1, markersize = 6)\nplt.plot(y_pos, ido['minimum'], 'g1-', color ='blue', linewidth = 1, markersize = 6)\nplt.plot(y_pos, ido['atlag'], 'g+--', color = 'navy', linewidth = 1.5, markersize = 6)\n\nplt.plot(y_pos, [ido.minimum.mean()]*num_days, color = 'blue', linewidth=.5, alpha = .5)\nplt.plot(y_pos, [ido.maximum.mean()]*num_days, color = 'red', linewidth=.5, alpha = .5)\n\nplt.legend(['Maximum ℃', 'Minimum ℃', 'Átlag ℃', 'Min. átlag', 'Max. átlag', 'Csapadék (mm)','Szél/10 km/h'])\nplt.xticks(y_pos,ido['datum'], rotation=90)\nplt.grid(alpha=.1, linestyle='-')\n# plt.yticks(range(0,max_homerseklet + 2),range(0,max_homerseklet + 2))\nplt.yticks(range(min_homerseklet, max_homerseklet))\nplt.ylabel('Hőmérséklet / csapadék')\nplt.title('Hőmérséklet és csapadék előrejelzés a következő '+str(num_days)+' napra: ' + telepules)\nplt.savefig('ido.png')\nplt.show()",
      "execution_count": null,
      "outputs": []
    },
    {
      "metadata": {
        "trusted": true
      },
      "cell_type": "code",
      "source": "",
      "execution_count": null,
      "outputs": []
    }
  ],
  "metadata": {
    "kernelspec": {
      "name": "python36",
      "display_name": "Python 3.6",
      "language": "python"
    },
    "language_info": {
      "mimetype": "text/x-python",
      "nbconvert_exporter": "python",
      "name": "python",
      "pygments_lexer": "ipython3",
      "version": "3.6.6",
      "file_extension": ".py",
      "codemirror_mode": {
        "version": 3,
        "name": "ipython"
      }
    }
  },
  "nbformat": 4,
  "nbformat_minor": 2
}